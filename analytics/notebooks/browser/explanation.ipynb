{
 "cells": [
  {
   "cell_type": "markdown",
   "metadata": {},
   "source": [
    "# Data analysis\n",
    "\n",
    "Below are all the parameters that make up the context: \n",
    "- 3 contexts: unthrottled, throttled and throttled-heavy\n",
    "- 3 setups: csr, ssr horizontal, ssr vertical\n",
    "- 2 dependency types: shared and not shared"
   ]
  },
  {
   "cell_type": "markdown",
   "metadata": {},
   "source": [
    "## Hardware:\n",
    "\n",
    "| # | Setting |\n",
    "| --- | --- |\n",
    "| Device | macbook pro 14-inch, 2023 | \n",
    "| Chip | Apple M2 Pro | \n",
    "| Memory | 16 GB | \n",
    "| macOS | 15.1.1 | \n",
    "| Java | openjdk 21.0.5 | \n",
    "| Node | v23.3.0 | \n",
    "| Angular | v18.2.x |\n",
    "| Lighthouse index |  ~3000 |"
   ]
  },
  {
   "cell_type": "markdown",
   "metadata": {},
   "source": [
    "## Core Web Vitals Measurements:\n",
    "\n",
    "**Long task**\n",
    "- Task that takes more than 50ms\n",
    "\n",
    "**TTFB (Time to First Byte):**\n",
    " - Time from navigation start until the first byte of response is received\n",
    " - Calculated using: performance.getEntriesByType('navigation')[0].responseStart\n",
    " \n",
    "**FCP (First Contentful Paint):**\n",
    " - Time when the first text, image, or other content appears on the screen.\n",
    " - Is the 'endTime' of the first-contentful-paint\n",
    " - FCP includes all things that happened before it (like TTFB).\n",
    " \n",
    "**LCP (Largest Contentful Paint):**\n",
    " - Time when the largest text or image element is rendered on the screen (so endTime)\n",
    " - Is the 'endTime' of the largest-contentful-paint.\n",
    " - FCP includes all things that happened before it (like TTFB).\n",
    " \n",
    "**TTI (Time to Interactive):**\n",
    " - Time when the page becomes 'reliably' interactive\n",
    " - It is measured as the endtime of the last 'long task' after the FCP starttime\n",
    " - If no tasks are found, it is the end-time of the FCP.\n",
    " \n",
    "**TBT (Total Blocking Time):**\n",
    " - Sum of all \"blocking time\" for long tasks between start of FCP and TTI\n",
    " - Blocking time = accumulation of (task duration - 50ms) of each long task.\n",
    " - TBT contains a 'quiet window' of 5s, if this window is expired, the test will end.\n",
    " - The quiet window starts after the FCP. "
   ]
  },
  {
   "cell_type": "markdown",
   "metadata": {},
   "source": [
    "## Throttling\n",
    "\n",
    "| # | Setting |\n",
    "| --- | --- |\n",
    "| CPU | 4x CPU slowdown | \n",
    "| download | 1.6 Mbps | \n",
    "| upload | 750 Kbps | \n",
    "| latency | 150ms | "
   ]
  },
  {
   "cell_type": "markdown",
   "metadata": {},
   "source": [
    "## Heavy Throttling\n",
    "\n",
    "| # | Setting |\n",
    "| --- | --- |\n",
    "| CPU | 10x CPU slowdown | \n",
    "| download | 1.6 Mbps | \n",
    "| upload | 750 Kbps | \n",
    "| latency | 150ms | "
   ]
  }
 ],
 "metadata": {
  "language_info": {
   "name": "python"
  }
 },
 "nbformat": 4,
 "nbformat_minor": 2
}
