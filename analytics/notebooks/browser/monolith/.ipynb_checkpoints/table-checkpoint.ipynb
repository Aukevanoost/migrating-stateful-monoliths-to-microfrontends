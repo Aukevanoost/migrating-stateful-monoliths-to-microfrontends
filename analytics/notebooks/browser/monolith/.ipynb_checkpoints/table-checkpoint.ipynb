{
 "cells": [
  {
   "cell_type": "code",
   "execution_count": 1,
   "metadata": {},
   "outputs": [],
   "source": [
    "import pandas as pd;\n",
    "import numpy as np;\n",
    "import matplotlib.pyplot as plt\n",
    "from sklearn.ensemble import IsolationForest\n",
    "import scipy.stats as stats\n",
    "\n",
    "plt.rcParams.update({'font.size': 14})\n",
    "pd.set_option('display.float_format', lambda x: '%.2f' % x)\n",
    "path = '../../../../playwright/results/core-web-vitals/testrun-8/'\n"
   ]
  },
  {
   "cell_type": "code",
   "execution_count": 2,
   "metadata": {},
   "outputs": [],
   "source": [
    "df = pd.read_csv(f'{path}2024-12-19T09:12:33.629Z_results-monolith.csv', sep=',')\n",
    "df_t = pd.read_csv(f'{path}2024-12-19T10:13:15.254Z_results-monolith-throttled.csv', sep=',')\n",
    "\n",
    "features = ['navTime', 'totalTime', 'lcp', 'fcp', 'ttfb', 'tbt', 'tti', 'longestTask', 'longTasks', 'nf:init', 'nf:config','nf:loaded']\n",
    "\n",
    "dirty_dfs = {\n",
    "    'unthrottled': df[5:],\n",
    "    'throttled': df_t[5:],\n",
    "  #  'heavy': df_ht[5:],\n",
    "}"
   ]
  },
  {
   "cell_type": "code",
   "execution_count": 3,
   "metadata": {},
   "outputs": [],
   "source": [
    "def detect_outliers(_df, _features, contamination=0.1):\n",
    "    clf = IsolationForest(contamination=contamination, random_state=42)\n",
    "    outliers = clf.fit_predict(_df[_features])\n",
    "    return outliers == 1\n",
    "\n",
    "masks = {}\n",
    "dfs = {}\n",
    "target_features = ['navTime', 'totalTime', 'lcp', 'fcp', 'ttfb']\n",
    "\n",
    "for name, _df in dirty_dfs.items():\n",
    "    mask = detect_outliers(_df, target_features)\n",
    "    masks[name] = mask\n",
    "    dfs[name] = _df[mask].copy()"
   ]
  },
  {
   "cell_type": "code",
   "execution_count": 4,
   "metadata": {},
   "outputs": [
    {
     "data": {
      "text/html": [
       "<div>\n",
       "<style scoped>\n",
       "    .dataframe tbody tr th:only-of-type {\n",
       "        vertical-align: middle;\n",
       "    }\n",
       "\n",
       "    .dataframe tbody tr th {\n",
       "        vertical-align: top;\n",
       "    }\n",
       "\n",
       "    .dataframe thead th {\n",
       "        text-align: right;\n",
       "    }\n",
       "</style>\n",
       "<table border=\"1\" class=\"dataframe\">\n",
       "  <thead>\n",
       "    <tr style=\"text-align: right;\">\n",
       "      <th></th>\n",
       "      <th>ttfb</th>\n",
       "      <th>fcp</th>\n",
       "      <th>nf:init</th>\n",
       "      <th>lcp</th>\n",
       "      <th>tti</th>\n",
       "      <th>nf:loaded</th>\n",
       "      <th>tbt</th>\n",
       "      <th>longestTask</th>\n",
       "    </tr>\n",
       "  </thead>\n",
       "  <tbody>\n",
       "    <tr>\n",
       "      <th>unthrottled (mean)</th>\n",
       "      <td>3.74</td>\n",
       "      <td>70.91</td>\n",
       "      <td>-</td>\n",
       "      <td>70.91</td>\n",
       "      <td>70.91</td>\n",
       "      <td>-</td>\n",
       "      <td>0.00</td>\n",
       "      <td>-</td>\n",
       "    </tr>\n",
       "    <tr>\n",
       "      <th>unthrottled (75th)</th>\n",
       "      <td>4.00</td>\n",
       "      <td>72.40</td>\n",
       "      <td>-</td>\n",
       "      <td>72.40</td>\n",
       "      <td>72.40</td>\n",
       "      <td>-</td>\n",
       "      <td>0.00</td>\n",
       "      <td>-</td>\n",
       "    </tr>\n",
       "    <tr>\n",
       "      <th>throttled (mean)</th>\n",
       "      <td>354.21</td>\n",
       "      <td>1144.63</td>\n",
       "      <td>-</td>\n",
       "      <td>1144.63</td>\n",
       "      <td>1144.63</td>\n",
       "      <td>-</td>\n",
       "      <td>0.00</td>\n",
       "      <td>-</td>\n",
       "    </tr>\n",
       "    <tr>\n",
       "      <th>throttled (75th)</th>\n",
       "      <td>354.80</td>\n",
       "      <td>1151.50</td>\n",
       "      <td>-</td>\n",
       "      <td>1151.50</td>\n",
       "      <td>1151.50</td>\n",
       "      <td>-</td>\n",
       "      <td>0.00</td>\n",
       "      <td>-</td>\n",
       "    </tr>\n",
       "  </tbody>\n",
       "</table>\n",
       "</div>"
      ],
      "text/plain": [
       "                     ttfb     fcp nf:init     lcp     tti nf:loaded  tbt  \\\n",
       "unthrottled (mean)   3.74   70.91       -   70.91   70.91         - 0.00   \n",
       "unthrottled (75th)   4.00   72.40       -   72.40   72.40         - 0.00   \n",
       "throttled (mean)   354.21 1144.63       - 1144.63 1144.63         - 0.00   \n",
       "throttled (75th)   354.80 1151.50       - 1151.50 1151.50         - 0.00   \n",
       "\n",
       "                   longestTask  \n",
       "unthrottled (mean)           -  \n",
       "unthrottled (75th)           -  \n",
       "throttled (mean)             -  \n",
       "throttled (75th)             -  "
      ]
     },
     "execution_count": 4,
     "metadata": {},
     "output_type": "execute_result"
    }
   ],
   "source": [
    "columns = [ 'ttfb','fcp','nf:init','lcp','tti','nf:loaded','tbt','longestTask']\n",
    "rows = []\n",
    "\n",
    "for name, df in dfs.items():\n",
    "    mean_row = df[columns].mean()\n",
    "    percentile_row = df[columns].quantile(0.75)\n",
    "    \n",
    "    rows.append((f\"{name} (mean)\", mean_row))\n",
    "    rows.append((f\"{name} (75th)\", percentile_row))\n",
    "\n",
    "result_df = pd.DataFrame([row[1] for row in rows], index=[row[0] for row in rows])\n",
    "result_df = result_df.mask(result_df < 0, '-')\n",
    "result_df"
   ]
  },
  {
   "cell_type": "code",
   "execution_count": null,
   "metadata": {},
   "outputs": [],
   "source": []
  }
 ],
 "metadata": {
  "kernelspec": {
   "display_name": "jupvenv",
   "language": "python",
   "name": "jupvenv"
  },
  "language_info": {
   "codemirror_mode": {
    "name": "ipython",
    "version": 3
   },
   "file_extension": ".py",
   "mimetype": "text/x-python",
   "name": "python",
   "nbconvert_exporter": "python",
   "pygments_lexer": "ipython3",
   "version": "3.11.7"
  }
 },
 "nbformat": 4,
 "nbformat_minor": 4
}
